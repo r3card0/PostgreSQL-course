{
 "cells": [
  {
   "cell_type": "markdown",
   "metadata": {},
   "source": [
    "# JOIN. Cruce de tablas\n",
    "\n",
    "1. Se aplica la teoría de conjuntos en SQL\n",
    "\n",
    "2. Diagramas de Venn\n",
    "\n",
    "3. Existen varios tipos de *joins*"
   ]
  },
  {
   "cell_type": "markdown",
   "metadata": {},
   "source": [
    "## Tipos de cruces - joins"
   ]
  },
  {
   "cell_type": "markdown",
   "metadata": {},
   "source": [
    "![Tipos de Joins](/Users/ideasleon/platzi_edu/PostgreSQL/transporte/images/tipos_joins.png)"
   ]
  },
  {
   "cell_type": "markdown",
   "metadata": {},
   "source": [
    "## JOIN más usado\n",
    "\n",
    "- INNER JOIN\n",
    "- LEFT JOIN"
   ]
  },
  {
   "cell_type": "markdown",
   "metadata": {},
   "source": [
    "## Referencias\n",
    "[JOIN en PostreSQL course](https://platzi.com/clases/1480-postgresql/24186-cruzar-tablas-sql-join/)\n",
    "\n",
    "[FROM en Fundamentos de BDT course](https://platzi.com/clases/1566-bd/19819-from/)"
   ]
  }
 ],
 "metadata": {
  "language_info": {
   "name": "python"
  },
  "orig_nbformat": 4
 },
 "nbformat": 4,
 "nbformat_minor": 2
}
