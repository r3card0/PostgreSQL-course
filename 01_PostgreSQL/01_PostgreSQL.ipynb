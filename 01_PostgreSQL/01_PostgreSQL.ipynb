{
 "cells": [
  {
   "cell_type": "markdown",
   "metadata": {},
   "source": [
    "# ¿Qué es PostgreSQL?\n",
    "\n",
    "Es un motor de bases de datos. Un motor de base de datos permite estructurar la información dentro de un servidor.\n",
    "\n",
    "## Conceptos importantes entorno a las bases de datos\n",
    "1. Lenguaje SQL\n",
    "2. Motor\n",
    "3. Servidor\n",
    "\n",
    "* PostgreSQL es una motor de base de datos.\n",
    "\n",
    "* Un servidor es un equipo donde se instala el motor de base de datos. Un servidor tiene procesador y memoria RAM.\n",
    "\n",
    "* La base de datos almacena la información y se puede accesar a ella a través del lenguaje SQL.\n",
    "\n",
    "PostreSQL:\n",
    "\n",
    "- Es una tecnología open source\n",
    "- Usa como núcleo el -> Objeto-relacional, donde pretendia que las bases de datos tuvieran una estructura como el desarrollo de programación orientada a objetos. Herencias, interfaces. \n",
    "- Usa SQL\n",
    "- Fundada en 1986 en la University of California at Berkeley\n",
    "- PostGIS -> es un servicio de geolocalización que permite realizar funciones de mapas, puntos\n",
    "- PL/PgSQL -> permite desarrollar código \n",
    "- Cumple el estándar ACID:\n",
    "    * A:\tAtomicity\n",
    "    * C:\tConsistency\n",
    "    * I:\tIsolation\n",
    "    * D:\tDurability\n",
    "\n",
    "\n",
    "## ACID\n",
    "\n",
    "**A**. Atomic\n",
    "Se refiere a que los cambios realizados en la base de datos deben ser exitosos, o no realizarse. \"Se hacen bien o no se hacen\"\n",
    "\n",
    "**C**. Consistent\n",
    "Los datos deben ser consistentes antes y después de una transacción\n",
    "\n",
    "**I**. Isolated\n",
    "Se refiere a que los cambios realizados en la base de datos solo se hacen en ese proceso sin afectar otros procesos de la bae de datos\n",
    "\n",
    "**D**. Durability\n",
    "Se refiere a que los cambios realizados en una transacción deben perdurar y mantenerse.\n",
    "\n",
    "[ACID - English explanation](https://www.youtube.com/watch?v=AcqtAEzuoj0)"
   ]
  }
 ],
 "metadata": {
  "interpreter": {
   "hash": "aee8b7b246df8f9039afb4144a1f6fd8d2ca17a180786b69acc140d282b71a49"
  },
  "kernelspec": {
   "display_name": "Python 3.10.0 64-bit",
   "language": "python",
   "name": "python3"
  },
  "language_info": {
   "name": "python",
   "version": "3.10.0"
  },
  "orig_nbformat": 4
 },
 "nbformat": 4,
 "nbformat_minor": 2
}
