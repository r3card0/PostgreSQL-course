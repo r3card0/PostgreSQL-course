{
 "cells": [
  {
   "cell_type": "markdown",
   "metadata": {},
   "source": [
    "# PostgreSQL\n",
    "\n",
    "1. Interacción con PostgreSQL desde la consola\n",
    "\n",
    "2. Conexión\n",
    "\n",
    "3. Consulta\n",
    "\n",
    "4. Crear una base de datos\n",
    "\n",
    "5. Explorar una base de datos\n",
    "\n",
    "6. Referencias"
   ]
  },
  {
   "cell_type": "markdown",
   "metadata": {},
   "source": [
    "## 1. Interacción con PostgreSQL desde la consola\n",
    "\n",
    "Los comandos que se usan desde la terminal.\n",
    "\n",
    "Uso de la consola.\n",
    "\n",
    "Se recomienda usarla ya que la interfaz grafica tiene algunos bugs y la consola permite acceder a la información de manera inmediata.\n"
   ]
  },
  {
   "cell_type": "markdown",
   "metadata": {},
   "source": [
    "![command line](/Users/ideasleon/platzi_edu/PostgreSQL/transporte/images/command_line.png)"
   ]
  },
  {
   "cell_type": "markdown",
   "metadata": {},
   "source": [
    "## 2. Conexión\n",
    "\n",
    "Para conectarse es necesario:\n",
    "1. Abrir la terminal shell que viene en la instalación ó usar el comando: *psql -U postgres -W*\n",
    "2. Ingresar los datos de conexión\n",
    "3. Siempre va haber 3 bases de datos instaladas cuando se inicia PostgreSQL\n",
    "\n",
    "![conexion](/Users/ideasleon/platzi_edu/PostgreSQL/transporte/images/conexion.png)"
   ]
  },
  {
   "cell_type": "markdown",
   "metadata": {},
   "source": [
    "## 3. Consulta"
   ]
  },
  {
   "cell_type": "markdown",
   "metadata": {},
   "source": [
    "## 4. Crear una base de datos"
   ]
  },
  {
   "cell_type": "markdown",
   "metadata": {},
   "source": [
    "## 5. Explorar una base de datos"
   ]
  },
  {
   "cell_type": "markdown",
   "metadata": {},
   "source": [
    "## Referencias"
   ]
  }
 ],
 "metadata": {
  "language_info": {
   "name": "python"
  },
  "orig_nbformat": 4
 },
 "nbformat": 4,
 "nbformat_minor": 2
}
